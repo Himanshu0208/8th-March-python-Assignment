{
 "cells": [
  {
   "cell_type": "markdown",
   "id": "05d49227-867e-4b3a-87b9-56e04ee6403f",
   "metadata": {},
   "source": [
    "# __Ques 1__\n",
    "The prob density function is type of prob distribution function which tell us about the continous data set i.e., what is the prob for a particlar value of a random variable x when we know that x is not a descrete random variable"
   ]
  },
  {
   "cell_type": "markdown",
   "id": "e840480b-e90f-4c61-ba58-430b0b837c19",
   "metadata": {},
   "source": [
    "# __Ques 2__\n",
    "The types of prob distribution function is:-\n",
    "1. pdf (prob density function)\n",
    "2. pmf (prob mass function)\n",
    "3. cdf (cumulative distribution function)"
   ]
  },
  {
   "cell_type": "markdown",
   "id": "08703f00-9e30-4ab3-af76-ffe9b4821fcb",
   "metadata": {},
   "source": [
    "# __Ques 3__"
   ]
  },
  {
   "cell_type": "code",
   "execution_count": 2,
   "id": "e95cffb9-26cf-42d3-ac9a-3387c1e00d12",
   "metadata": {},
   "outputs": [],
   "source": [
    "from scipy import stats"
   ]
  },
  {
   "cell_type": "code",
   "execution_count": 39,
   "id": "aa0b9d05-6471-40bf-b2cf-3ce6fb18228e",
   "metadata": {},
   "outputs": [
    {
     "data": {
      "text/plain": [
       "0.031448602307749436"
      ]
     },
     "execution_count": 39,
     "metadata": {},
     "output_type": "execute_result"
    }
   ],
   "source": [
    "x = 34\n",
    "mean = 30\n",
    "variance = 12\n",
    "stats.norm.pdf(x , mean , variance)"
   ]
  },
  {
   "cell_type": "markdown",
   "id": "2672f2a3-a318-410d-b137-afc9ba3556f7",
   "metadata": {},
   "source": [
    "# __Ques 4__\n",
    "The properties of binomial distribution are:-\n",
    "1. The value of n should be grater than zero (as the number of exp can't be less than or equal to 0)\n",
    "2. for n = 1 binomial is same as bernouli\n",
    "3. the exp should have only 2 possible values i.e, success (p) or fail (q)\n",
    "4. the value of p+q = 1 "
   ]
  },
  {
   "cell_type": "markdown",
   "id": "7f55a162-a9c5-4366-be7b-0f8a90358b89",
   "metadata": {},
   "source": [
    "# __Ques 5__"
   ]
  },
  {
   "cell_type": "code",
   "execution_count": 36,
   "id": "157a8822-0bd1-43d1-ad0f-77737cb597db",
   "metadata": {},
   "outputs": [],
   "source": [
    "N = 10\n",
    "success = 0.4\n",
    "size = 1000\n",
    "data = stats.binom.rvs(n=N,p=success,size=size)"
   ]
  },
  {
   "cell_type": "code",
   "execution_count": 37,
   "id": "1435aa29-e18b-4cca-8543-c2257753ad6f",
   "metadata": {},
   "outputs": [],
   "source": [
    "import matplotlib.pyplot as plt"
   ]
  },
  {
   "cell_type": "code",
   "execution_count": 38,
   "id": "a97de5dc-ab39-4f13-92a5-9df878c4c09d",
   "metadata": {},
   "outputs": [
    {
     "data": {
      "image/png": "[encoded data removed]",
      "text/plain": [
       "<Figure size 640x480 with 1 Axes>"
      ]
     },
     "metadata": {},
     "output_type": "display_data"
    }
   ],
   "source": [
    "plt.hist(data)\n",
    "plt.title('Binomial Distribution plot')\n",
    "plt.show()"
   ]
  },
  {
   "cell_type": "markdown",
   "id": "66d54048-42d5-4433-af50-590fa862b6e6",
   "metadata": {},
   "source": [
    "# __Ques 6__"
   ]
  },
  {
   "cell_type": "code",
   "execution_count": 34,
   "id": "1aa9af9e-ea15-4b82-ace5-e9bc9f1fe84f",
   "metadata": {},
   "outputs": [
    {
     "data": {
      "text/plain": [
       "0.03901199285499282"
      ]
     },
     "execution_count": 34,
     "metadata": {},
     "output_type": "execute_result"
    }
   ],
   "source": [
    "x = 12 \n",
    "mean =20\n",
    "stats.poisson.cdf(x,mu=mean)"
   ]
  },
  {
   "cell_type": "markdown",
   "id": "d358e1f6-fdce-4339-890f-6ff0ed2655c3",
   "metadata": {},
   "source": [
    "# __Ques 7__\n",
    "In biomial distribution the value of success is considerable while in possion distribution the value of success is so small that we take it as negligbile, and not even this teh binomial distribution have the n experiment where each experiment value can a one of 2 values either success or failuer while in possion distribution it tell us about the no. of even ocurring with in a given interval of space and time where the avg number of event occruing pe unit interval is give to us in form of &#11415;"
   ]
  },
  {
   "cell_type": "markdown",
   "id": "94e45f17-50c9-46be-8ab9-7d901cff8329",
   "metadata": {},
   "source": [
    "# __Ques 8__"
   ]
  },
  {
   "cell_type": "code",
   "execution_count": 40,
   "id": "ba28c205-0d5f-4a10-8504-bed4d7dbf4e4",
   "metadata": {},
   "outputs": [],
   "source": [
    "mean = 5\n",
    "size = 1000\n",
    "data = stats.poisson.rvs(mu=mean , size=size)"
   ]
  },
  {
   "cell_type": "code",
   "execution_count": 44,
   "id": "066addc0-f4d4-4388-bf97-2a9632311a51",
   "metadata": {},
   "outputs": [
    {
     "name": "stdout",
     "output_type": "stream",
     "text": [
      "Variance :  4.713183999999999\n",
      "Mean :  4.896\n"
     ]
    }
   ],
   "source": [
    "print('Variance : ' , data.var())\n",
    "print('Mean : ' , data.mean())"
   ]
  },
  {
   "cell_type": "markdown",
   "id": "356666b5-08a2-4788-aeca-2024a3640c26",
   "metadata": {},
   "source": [
    "# __Ques 9__\n",
    "1. __Binomial:__ \n",
    "    1. Mean = n * p = (number of events occuring together) * (prob. of success in each and every event)\n",
    "    2. Variance = n * p * q = (number of events occuring together) * (prob. of success in each and every event) * (prob. of fail in each and every event)\n",
    "2. __Poisson:__\n",
    "    1. Mean = &#11415; = (avg number of events occuring in the unit inter of time)\n",
    "    2. Variance = &#11415; = (avg number of events occuring in the unit inter of time)"
   ]
  },
  {
   "cell_type": "markdown",
   "id": "fd6ae088-f579-4fa9-9c37-1093cf8a1638",
   "metadata": {},
   "source": [
    "# __Ques 10__\n",
    "As the normal distribution is symmetric in nature hence teh least frequent data appear from both teh side of the mean i.e., their is a least frequent data in the left and right both direction from mean"
   ]
  }
 ],
 "metadata": {
  "kernelspec": {
   "display_name": "Python 3 (ipykernel)",
   "language": "python",
   "name": "python3"
  },
  "language_info": {
   "codemirror_mode": {
    "name": "ipython",
    "version": 3
   },
   "file_extension": ".py",
   "mimetype": "text/x-python",
   "name": "python",
   "nbconvert_exporter": "python",
   "pygments_lexer": "ipython3",
   "version": "3.10.8"
  }
 },
 "nbformat": 4,
 "nbformat_minor": 5
}
